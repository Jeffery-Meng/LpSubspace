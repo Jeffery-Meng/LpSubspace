{
 "cells": [
  {
   "cell_type": "code",
   "execution_count": 43,
   "metadata": {},
   "outputs": [
    {
     "data": {
      "text/plain": [
       "10000"
      ]
     },
     "execution_count": 43,
     "metadata": {},
     "output_type": "execute_result"
    }
   ],
   "source": [
    "import numpy as np\n",
    "import pathlib\n",
    "from oniakIO import odats\n",
    "import os\n",
    "\n",
    "root_path = pathlib.Path(os.getcwd()).parent\n",
    "\n",
    "dirpath = root_path / \"result/dpl1\"\n",
    "exp_list = os.listdir(str(dirpath)) \n",
    "calc_results = np.empty((len(exp_list), 100, 100))\n",
    "cnt = 0\n",
    "for fid, filename in enumerate(exp_list):\n",
    "    if \"sj\" not in filename:\n",
    "        continue\n",
    "    full_name = str(dirpath / filename)\n",
    "    data = odats.read_file(full_name)\n",
    "    if data.shape != (100, 100):\n",
    "        continue\n",
    "    calc_results[cnt] = data\n",
    "    cnt += 1\n",
    "calc_results = calc_results[:cnt]\n",
    "cnt"
   ]
  },
  {
   "cell_type": "code",
   "execution_count": 25,
   "metadata": {},
   "outputs": [
    {
     "data": {
      "text/plain": [
       "9999"
      ]
     },
     "execution_count": 25,
     "metadata": {},
     "output_type": "execute_result"
    }
   ],
   "source": [
    "import numpy as np\n",
    "import pathlib\n",
    "from oniakIO import odats\n",
    "import os\n",
    "\n",
    "root_path = pathlib.Path(os.getcwd()).parent\n",
    "\n",
    "dirpath = root_path / \"result/dpl1\"\n",
    "exp_list = os.listdir(str(dirpath)) \n",
    "calc_results = np.empty((len(exp_list), 100, 100))\n",
    "cnt = 0\n",
    "for fid, filename in enumerate(exp_list):\n",
    "    if \"sj\" in filename:\n",
    "        continue\n",
    "    full_name = str(dirpath / filename)\n",
    "    data = odats.read_file(full_name)\n",
    "    if data.shape != (100, 100):\n",
    "        continue\n",
    "    calc_results[cnt] = data\n",
    "    cnt += 1\n",
    "calc_results = calc_results[:cnt]\n",
    "cnt"
   ]
  },
  {
   "cell_type": "code",
   "execution_count": 51,
   "metadata": {},
   "outputs": [
    {
     "data": {
      "text/plain": [
       "(array([  2256.17333984, 156491.5       , 149897.625     , ...,\n",
       "        121495.0078125 , 151300.625     , 110172.3203125 ]),\n",
       " 10001)"
      ]
     },
     "execution_count": 51,
     "metadata": {},
     "output_type": "execute_result"
    }
   ],
   "source": [
    "import numpy as np\n",
    "\n",
    "dirpath = root_path / \"result/distance_preserve\"\n",
    "exp_list = os.listdir(str(dirpath))\n",
    "calc_results2 = np.empty((len(exp_list), 100, 100))\n",
    "for fid, filename in enumerate(exp_list):\n",
    "    full_name = str(dirpath / filename)\n",
    "    data = odats.read_file(full_name)\n",
    "    calc_results2[fid] = data\n",
    "calc_results2[:, 0, 0], len(calc_results2)"
   ]
  },
  {
   "cell_type": "code",
   "execution_count": 6,
   "metadata": {},
   "outputs": [],
   "source": [
    "from oniakIO import odats\n",
    "import pathlib, os\n",
    "\n",
    "gt_dist = odats.read_file(str(root_path / \"result/distance_preserve/gnd.odat\"))\n",
    "sj_results = calc_results / gt_dist[np.newaxis, :, :]\n",
    "jl_results = calc_results2 / gt_dist[np.newaxis, :, :]"
   ]
  },
  {
   "cell_type": "code",
   "execution_count": 19,
   "metadata": {},
   "outputs": [],
   "source": [
    "from oniakExp import stats\n",
    "nbins = 2001\n",
    "num_setting = 10000\n",
    "dist_far = 1000\n",
    "xs = np.linspace(0, dist_far, nbins)\n",
    "\n",
    "def rank_cdfs(data):\n",
    "    cdfs = np.empty((num_setting, nbins))\n",
    "    for i in range(num_setting):\n",
    "        x = i // 100\n",
    "        y = i % 100\n",
    "        cdfs[i] = stats.cdf(data[:, x, y], limits=[0, dist_far], nbins=nbins)\n",
    "    return cdfs[cdfs[:,150].argsort()]"
   ]
  },
  {
   "cell_type": "code",
   "execution_count": 52,
   "metadata": {},
   "outputs": [],
   "source": [
    "jl_results = calc_results2 / gt_dist[np.newaxis, :, :]\n",
    "jl_cdf = rank_cdfs(jl_results)"
   ]
  },
  {
   "cell_type": "code",
   "execution_count": 49,
   "metadata": {},
   "outputs": [],
   "source": [
    "sj_results = calc_results / gt_dist[np.newaxis, :, :]\n",
    "sj_cdf = rank_cdfs(sj_results)"
   ]
  },
  {
   "cell_type": "code",
   "execution_count": 26,
   "metadata": {},
   "outputs": [],
   "source": [
    "l1_results = calc_results / gt_dist[np.newaxis, :, :]\n",
    "l1_cdf = rank_cdfs(l1_results)"
   ]
  },
  {
   "cell_type": "code",
   "execution_count": 46,
   "metadata": {},
   "outputs": [],
   "source": [
    "from scipy.stats import binom\n",
    "binom_cdf = lambda x: 1 - binom.cdf(3, 9, x)\n",
    "\n",
    "def distance_pres(cdf, near, far, recall=0.9):\n",
    "    near_data = binom_cdf(cdf[near])\n",
    "    if far == \"avg\":\n",
    "        far_data = np.mean(cdf, axis=0)\n",
    "    else:\n",
    "        far_data = cdf[far]\n",
    "    idx = np.searchsorted(near_data, recall)\n",
    "    print(xs[idx])\n",
    "    fp = binom_cdf(far_data[5:idx])\n",
    "    x_ratio = []\n",
    "    for i in range(5, idx):\n",
    "        x_ratio.append(xs[idx] / xs[i])\n",
    "    return x_ratio, fp\n"
   ]
  },
  {
   "cell_type": "code",
   "execution_count": 63,
   "metadata": {},
   "outputs": [
    {
     "name": "stdout",
     "output_type": "stream",
     "text": [
      "85.0\n",
      "37.5\n"
     ]
    },
    {
     "data": {
      "image/png": "[encoded data removed]",
      "text/plain": [
       "<Figure size 432x288 with 1 Axes>"
      ]
     },
     "metadata": {
      "needs_background": "light"
     },
     "output_type": "display_data"
    }
   ],
   "source": [
    "from oniakPlot import line_plot\n",
    "\n",
    "near = 1000\n",
    "far = \"avg\"\n",
    "\n",
    "line_plot.plot_result([distance_pres(jl_cdf, near, far), distance_pres(sj_cdf, near, far)],\n",
    "         line_names=[\"L2\", \"L1-SJ\"], xlabel=\"Distance Ratio\", ylabel=\"FP\", legend_pos=\"best\", limx=[1, 2],\n",
    "                      figtitle=\"Average FP vs Distance Ratio\", savepath=\"/media/mydrive_2/Dropbox (GaTech)/lpsubspace/figs/{}_{}_ratio.pdf\".format(near, far))"
   ]
  },
  {
   "cell_type": "code",
   "execution_count": 59,
   "metadata": {},
   "outputs": [
    {
     "name": "stdout",
     "output_type": "stream",
     "text": [
      "65.0\n",
      "32.0\n",
      "337.0\n"
     ]
    },
    {
     "data": {
      "image/png": "[encoded data removed]",
      "text/plain": [
       "<Figure size 432x288 with 1 Axes>"
      ]
     },
     "metadata": {
      "needs_background": "light"
     },
     "output_type": "display_data"
    }
   ],
   "source": [
    "near = 5000\n",
    "far = 5000\n",
    "\n",
    "line_plot.plot_result([distance_pres(jl_cdf, near, far), distance_pres(sj_cdf, near, far), distance_pres(l1_cdf, near, far)],\n",
    "         line_names=[\"L2\", \"L1-SJ\", \"L1\"], xlabel=\"Distance Ratio\", ylabel=\"FP\", legend_pos=\"best\", limx=[1, 1.8],\n",
    "                      figtitle=\"False positive at 90% false negative (L=9, T=4, 0.5 quantile)\", savepath=\"/media/mydrive_2/Dropbox (GaTech)/lpsubspace/figs/{}_{}_ratio.pdf\".format(near, far))"
   ]
  }
 ],
 "metadata": {
  "kernelspec": {
   "display_name": "base",
   "language": "python",
   "name": "python3"
  },
  "language_info": {
   "codemirror_mode": {
    "name": "ipython",
    "version": 3
   },
   "file_extension": ".py",
   "mimetype": "text/x-python",
   "name": "python",
   "nbconvert_exporter": "python",
   "pygments_lexer": "ipython3",
   "version": "3.9.7"
  },
  "orig_nbformat": 4
 },
 "nbformat": 4,
 "nbformat_minor": 2
}
