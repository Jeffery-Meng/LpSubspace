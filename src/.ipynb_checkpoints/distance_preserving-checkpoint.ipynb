{
 "cells": [
  {
   "cell_type": "markdown",
   "metadata": {},
   "source": [
    "### prepare 100 random samples"
   ]
  },
  {
   "cell_type": "code",
   "execution_count": 2,
   "metadata": {},
   "outputs": [
    {
     "name": "stdout",
     "output_type": "stream",
     "text": [
      "(900, 128)\n"
     ]
    },
    {
     "data": {
      "text/plain": [
       "405"
      ]
     },
     "execution_count": 2,
     "metadata": {},
     "output_type": "execute_result"
    }
   ],
   "source": [
    "import pathlib\n",
    "from oniakIO import odats\n",
    "from oniakExp import subsample\n",
    "\n",
    "root_path = pathlib.Path(\"/media/gtnetuser/SSD_2TB_BEST/LpSubspace\")\n",
    "data_file = root_path / \"data/sift1M.odat\"\n",
    "result_file = root_path / \"data/sift100sample.odat\"\n",
    "id_file = root_path / \"data/sift100sample_ids.odat\"\n",
    "\n",
    "data = odats.read_file(str(data_file))\n",
    "sampleddata, sampleids = subsample.subsample(data, 100, 9)\n",
    "print(sampleddata.shape)\n",
    "odats.write_file(str(result_file), sampleddata, dtype=odats.odat.float32)\n",
    "odats.write_file(str(id_file), sampleids, dtype=odats.odat.int32)"
   ]
  },
  {
   "cell_type": "markdown",
   "metadata": {},
   "source": [
    "### Calculate Ground Truth distance"
   ]
  },
  {
   "cell_type": "code",
   "execution_count": null,
   "metadata": {},
   "outputs": [
    {
     "name": "stdout",
     "output_type": "stream",
     "text": [
      "0\n",
      "1\n",
      "2\n",
      "3\n",
      "4\n",
      "5\n"
     ]
    }
   ],
   "source": [
    "import subprocess, json\n",
    "\n",
    "config = {\n",
    "    \"data file\": \"data/sift100sample.odat\",\n",
    "    \"query file\": \"data/sift_query.odat\",\n",
    "    \"subspace rank\": 9,\n",
    "    \"number subspaces\": 100,\n",
    "    \"dimension\": 128,\n",
    "    \"number queries\": 100,\n",
    "    \"dataset\": \"sift\",\n",
    "    \"projection dimension\": 128\n",
    "    \"output file\": \"result/distance_preserve/gnd.odat\"\n",
    "}\n",
    "json_path = str(root_path / \"config3/distance_preserve_gt.json\")\n",
    "with open(json_path, \"w\"):\n",
    "    json.dump()\n"
   ]
  },
  {
   "cell_type": "markdown",
   "metadata": {},
   "source": [
    "### Run 10000 different seeds"
   ]
  },
  {
   "cell_type": "code",
   "execution_count": null,
   "metadata": {},
   "outputs": [],
   "source": []
  }
 ],
 "metadata": {
  "kernelspec": {
   "display_name": "Python 3",
   "language": "python",
   "name": "python3"
  },
  "language_info": {
   "codemirror_mode": {
    "name": "ipython",
    "version": 3
   },
   "file_extension": ".py",
   "mimetype": "text/x-python",
   "name": "python",
   "nbconvert_exporter": "python",
   "pygments_lexer": "ipython3",
   "version": "3.7.10"
  }
 },
 "nbformat": 4,
 "nbformat_minor": 2
}
